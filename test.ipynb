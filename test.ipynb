{
 "cells": [
  {
   "cell_type": "code",
   "execution_count": 1,
   "metadata": {},
   "outputs": [
    {
     "name": "stdout",
     "output_type": "stream",
     "text": [
      "Requirement already satisfied: torch in c:\\users\\jue\\desktop\\nlp_t\\.venv\\lib\\site-packages (2.6.0)\n",
      "Requirement already satisfied: filelock in c:\\users\\jue\\desktop\\nlp_t\\.venv\\lib\\site-packages (from torch) (3.17.0)\n",
      "Requirement already satisfied: typing-extensions>=4.10.0 in c:\\users\\jue\\desktop\\nlp_t\\.venv\\lib\\site-packages (from torch) (4.12.2)\n",
      "Requirement already satisfied: networkx in c:\\users\\jue\\desktop\\nlp_t\\.venv\\lib\\site-packages (from torch) (3.4.2)\n",
      "Requirement already satisfied: jinja2 in c:\\users\\jue\\desktop\\nlp_t\\.venv\\lib\\site-packages (from torch) (3.1.5)\n",
      "Requirement already satisfied: fsspec in c:\\users\\jue\\desktop\\nlp_t\\.venv\\lib\\site-packages (from torch) (2024.12.0)\n",
      "Requirement already satisfied: sympy==1.13.1 in c:\\users\\jue\\desktop\\nlp_t\\.venv\\lib\\site-packages (from torch) (1.13.1)\n",
      "Requirement already satisfied: mpmath<1.4,>=1.1.0 in c:\\users\\jue\\desktop\\nlp_t\\.venv\\lib\\site-packages (from sympy==1.13.1->torch) (1.3.0)\n",
      "Requirement already satisfied: MarkupSafe>=2.0 in c:\\users\\jue\\desktop\\nlp_t\\.venv\\lib\\site-packages (from jinja2->torch) (3.0.2)\n",
      "Note: you may need to restart the kernel to use updated packages.\n"
     ]
    }
   ],
   "source": [
    "pip install torch"
   ]
  },
  {
   "cell_type": "code",
   "execution_count": 2,
   "metadata": {},
   "outputs": [
    {
     "data": {
      "text/plain": [
       "device(type='cpu')"
      ]
     },
     "execution_count": 2,
     "metadata": {},
     "output_type": "execute_result"
    }
   ],
   "source": [
    "import torch\n",
    "device = torch.device(\"cuda\" if torch.cuda.is_available() else \"cpu\")\n",
    "device"
   ]
  },
  {
   "cell_type": "code",
   "execution_count": 3,
   "metadata": {},
   "outputs": [
    {
     "name": "stdout",
     "output_type": "stream",
     "text": [
      "Requirement already satisfied: transformers in c:\\users\\jue\\desktop\\nlp_t\\.venv\\lib\\site-packages (4.49.0)\n",
      "Requirement already satisfied: filelock in c:\\users\\jue\\desktop\\nlp_t\\.venv\\lib\\site-packages (from transformers) (3.17.0)\n",
      "Requirement already satisfied: huggingface-hub<1.0,>=0.26.0 in c:\\users\\jue\\desktop\\nlp_t\\.venv\\lib\\site-packages (from transformers) (0.29.1)\n",
      "Requirement already satisfied: numpy>=1.17 in c:\\users\\jue\\desktop\\nlp_t\\.venv\\lib\\site-packages (from transformers) (2.2.3)\n",
      "Requirement already satisfied: packaging>=20.0 in c:\\users\\jue\\desktop\\nlp_t\\.venv\\lib\\site-packages (from transformers) (24.2)\n",
      "Requirement already satisfied: pyyaml>=5.1 in c:\\users\\jue\\desktop\\nlp_t\\.venv\\lib\\site-packages (from transformers) (6.0.2)\n",
      "Requirement already satisfied: regex!=2019.12.17 in c:\\users\\jue\\desktop\\nlp_t\\.venv\\lib\\site-packages (from transformers) (2024.11.6)\n",
      "Requirement already satisfied: requests in c:\\users\\jue\\desktop\\nlp_t\\.venv\\lib\\site-packages (from transformers) (2.32.3)\n",
      "Requirement already satisfied: tokenizers<0.22,>=0.21 in c:\\users\\jue\\desktop\\nlp_t\\.venv\\lib\\site-packages (from transformers) (0.21.0)\n",
      "Requirement already satisfied: safetensors>=0.4.1 in c:\\users\\jue\\desktop\\nlp_t\\.venv\\lib\\site-packages (from transformers) (0.5.3)\n",
      "Requirement already satisfied: tqdm>=4.27 in c:\\users\\jue\\desktop\\nlp_t\\.venv\\lib\\site-packages (from transformers) (4.67.1)\n",
      "Requirement already satisfied: fsspec>=2023.5.0 in c:\\users\\jue\\desktop\\nlp_t\\.venv\\lib\\site-packages (from huggingface-hub<1.0,>=0.26.0->transformers) (2024.12.0)\n",
      "Requirement already satisfied: typing-extensions>=3.7.4.3 in c:\\users\\jue\\desktop\\nlp_t\\.venv\\lib\\site-packages (from huggingface-hub<1.0,>=0.26.0->transformers) (4.12.2)\n",
      "Requirement already satisfied: colorama in c:\\users\\jue\\desktop\\nlp_t\\.venv\\lib\\site-packages (from tqdm>=4.27->transformers) (0.4.6)\n",
      "Requirement already satisfied: charset-normalizer<4,>=2 in c:\\users\\jue\\desktop\\nlp_t\\.venv\\lib\\site-packages (from requests->transformers) (3.4.1)\n",
      "Requirement already satisfied: idna<4,>=2.5 in c:\\users\\jue\\desktop\\nlp_t\\.venv\\lib\\site-packages (from requests->transformers) (3.10)\n",
      "Requirement already satisfied: urllib3<3,>=1.21.1 in c:\\users\\jue\\desktop\\nlp_t\\.venv\\lib\\site-packages (from requests->transformers) (2.3.0)\n",
      "Requirement already satisfied: certifi>=2017.4.17 in c:\\users\\jue\\desktop\\nlp_t\\.venv\\lib\\site-packages (from requests->transformers) (2025.1.31)\n",
      "Note: you may need to restart the kernel to use updated packages.\n"
     ]
    }
   ],
   "source": [
    "pip install transformers"
   ]
  },
  {
   "cell_type": "code",
   "execution_count": 4,
   "metadata": {},
   "outputs": [
    {
     "name": "stdout",
     "output_type": "stream",
     "text": [
      "Requirement already satisfied: trl in c:\\users\\jue\\desktop\\nlp_t\\.venv\\lib\\site-packages (0.15.2)\n",
      "Requirement already satisfied: accelerate>=0.34.0 in c:\\users\\jue\\desktop\\nlp_t\\.venv\\lib\\site-packages (from trl) (1.4.0)\n",
      "Requirement already satisfied: datasets>=2.21.0 in c:\\users\\jue\\desktop\\nlp_t\\.venv\\lib\\site-packages (from trl) (3.3.2)\n",
      "Requirement already satisfied: rich in c:\\users\\jue\\desktop\\nlp_t\\.venv\\lib\\site-packages (from trl) (13.9.4)\n",
      "Requirement already satisfied: transformers>=4.46.0 in c:\\users\\jue\\desktop\\nlp_t\\.venv\\lib\\site-packages (from trl) (4.49.0)\n",
      "Requirement already satisfied: numpy<3.0.0,>=1.17 in c:\\users\\jue\\desktop\\nlp_t\\.venv\\lib\\site-packages (from accelerate>=0.34.0->trl) (2.2.3)\n",
      "Requirement already satisfied: packaging>=20.0 in c:\\users\\jue\\desktop\\nlp_t\\.venv\\lib\\site-packages (from accelerate>=0.34.0->trl) (24.2)\n",
      "Requirement already satisfied: psutil in c:\\users\\jue\\desktop\\nlp_t\\.venv\\lib\\site-packages (from accelerate>=0.34.0->trl) (7.0.0)\n",
      "Requirement already satisfied: pyyaml in c:\\users\\jue\\desktop\\nlp_t\\.venv\\lib\\site-packages (from accelerate>=0.34.0->trl) (6.0.2)\n",
      "Requirement already satisfied: torch>=2.0.0 in c:\\users\\jue\\desktop\\nlp_t\\.venv\\lib\\site-packages (from accelerate>=0.34.0->trl) (2.6.0)\n",
      "Requirement already satisfied: huggingface-hub>=0.21.0 in c:\\users\\jue\\desktop\\nlp_t\\.venv\\lib\\site-packages (from accelerate>=0.34.0->trl) (0.29.1)\n",
      "Requirement already satisfied: safetensors>=0.4.3 in c:\\users\\jue\\desktop\\nlp_t\\.venv\\lib\\site-packages (from accelerate>=0.34.0->trl) (0.5.3)\n",
      "Requirement already satisfied: filelock in c:\\users\\jue\\desktop\\nlp_t\\.venv\\lib\\site-packages (from datasets>=2.21.0->trl) (3.17.0)\n",
      "Requirement already satisfied: pyarrow>=15.0.0 in c:\\users\\jue\\desktop\\nlp_t\\.venv\\lib\\site-packages (from datasets>=2.21.0->trl) (19.0.1)\n",
      "Requirement already satisfied: dill<0.3.9,>=0.3.0 in c:\\users\\jue\\desktop\\nlp_t\\.venv\\lib\\site-packages (from datasets>=2.21.0->trl) (0.3.8)\n",
      "Requirement already satisfied: pandas in c:\\users\\jue\\desktop\\nlp_t\\.venv\\lib\\site-packages (from datasets>=2.21.0->trl) (2.2.3)\n",
      "Requirement already satisfied: requests>=2.32.2 in c:\\users\\jue\\desktop\\nlp_t\\.venv\\lib\\site-packages (from datasets>=2.21.0->trl) (2.32.3)\n",
      "Requirement already satisfied: tqdm>=4.66.3 in c:\\users\\jue\\desktop\\nlp_t\\.venv\\lib\\site-packages (from datasets>=2.21.0->trl) (4.67.1)\n",
      "Requirement already satisfied: xxhash in c:\\users\\jue\\desktop\\nlp_t\\.venv\\lib\\site-packages (from datasets>=2.21.0->trl) (3.5.0)\n",
      "Requirement already satisfied: multiprocess<0.70.17 in c:\\users\\jue\\desktop\\nlp_t\\.venv\\lib\\site-packages (from datasets>=2.21.0->trl) (0.70.16)\n",
      "Requirement already satisfied: fsspec<=2024.12.0,>=2023.1.0 in c:\\users\\jue\\desktop\\nlp_t\\.venv\\lib\\site-packages (from fsspec[http]<=2024.12.0,>=2023.1.0->datasets>=2.21.0->trl) (2024.12.0)\n",
      "Requirement already satisfied: aiohttp in c:\\users\\jue\\desktop\\nlp_t\\.venv\\lib\\site-packages (from datasets>=2.21.0->trl) (3.11.13)\n",
      "Requirement already satisfied: regex!=2019.12.17 in c:\\users\\jue\\desktop\\nlp_t\\.venv\\lib\\site-packages (from transformers>=4.46.0->trl) (2024.11.6)\n",
      "Requirement already satisfied: tokenizers<0.22,>=0.21 in c:\\users\\jue\\desktop\\nlp_t\\.venv\\lib\\site-packages (from transformers>=4.46.0->trl) (0.21.0)\n",
      "Requirement already satisfied: markdown-it-py>=2.2.0 in c:\\users\\jue\\desktop\\nlp_t\\.venv\\lib\\site-packages (from rich->trl) (3.0.0)\n",
      "Requirement already satisfied: pygments<3.0.0,>=2.13.0 in c:\\users\\jue\\desktop\\nlp_t\\.venv\\lib\\site-packages (from rich->trl) (2.19.1)\n",
      "Requirement already satisfied: aiohappyeyeballs>=2.3.0 in c:\\users\\jue\\desktop\\nlp_t\\.venv\\lib\\site-packages (from aiohttp->datasets>=2.21.0->trl) (2.4.6)\n",
      "Requirement already satisfied: aiosignal>=1.1.2 in c:\\users\\jue\\desktop\\nlp_t\\.venv\\lib\\site-packages (from aiohttp->datasets>=2.21.0->trl) (1.3.2)\n",
      "Requirement already satisfied: attrs>=17.3.0 in c:\\users\\jue\\desktop\\nlp_t\\.venv\\lib\\site-packages (from aiohttp->datasets>=2.21.0->trl) (25.1.0)\n",
      "Requirement already satisfied: frozenlist>=1.1.1 in c:\\users\\jue\\desktop\\nlp_t\\.venv\\lib\\site-packages (from aiohttp->datasets>=2.21.0->trl) (1.5.0)\n",
      "Requirement already satisfied: multidict<7.0,>=4.5 in c:\\users\\jue\\desktop\\nlp_t\\.venv\\lib\\site-packages (from aiohttp->datasets>=2.21.0->trl) (6.1.0)\n",
      "Requirement already satisfied: propcache>=0.2.0 in c:\\users\\jue\\desktop\\nlp_t\\.venv\\lib\\site-packages (from aiohttp->datasets>=2.21.0->trl) (0.3.0)\n",
      "Requirement already satisfied: yarl<2.0,>=1.17.0 in c:\\users\\jue\\desktop\\nlp_t\\.venv\\lib\\site-packages (from aiohttp->datasets>=2.21.0->trl) (1.18.3)\n",
      "Requirement already satisfied: typing-extensions>=3.7.4.3 in c:\\users\\jue\\desktop\\nlp_t\\.venv\\lib\\site-packages (from huggingface-hub>=0.21.0->accelerate>=0.34.0->trl) (4.12.2)\n",
      "Requirement already satisfied: mdurl~=0.1 in c:\\users\\jue\\desktop\\nlp_t\\.venv\\lib\\site-packages (from markdown-it-py>=2.2.0->rich->trl) (0.1.2)\n",
      "Requirement already satisfied: charset-normalizer<4,>=2 in c:\\users\\jue\\desktop\\nlp_t\\.venv\\lib\\site-packages (from requests>=2.32.2->datasets>=2.21.0->trl) (3.4.1)\n",
      "Requirement already satisfied: idna<4,>=2.5 in c:\\users\\jue\\desktop\\nlp_t\\.venv\\lib\\site-packages (from requests>=2.32.2->datasets>=2.21.0->trl) (3.10)\n",
      "Requirement already satisfied: urllib3<3,>=1.21.1 in c:\\users\\jue\\desktop\\nlp_t\\.venv\\lib\\site-packages (from requests>=2.32.2->datasets>=2.21.0->trl) (2.3.0)\n",
      "Requirement already satisfied: certifi>=2017.4.17 in c:\\users\\jue\\desktop\\nlp_t\\.venv\\lib\\site-packages (from requests>=2.32.2->datasets>=2.21.0->trl) (2025.1.31)\n",
      "Requirement already satisfied: networkx in c:\\users\\jue\\desktop\\nlp_t\\.venv\\lib\\site-packages (from torch>=2.0.0->accelerate>=0.34.0->trl) (3.4.2)\n",
      "Requirement already satisfied: jinja2 in c:\\users\\jue\\desktop\\nlp_t\\.venv\\lib\\site-packages (from torch>=2.0.0->accelerate>=0.34.0->trl) (3.1.5)\n",
      "Requirement already satisfied: sympy==1.13.1 in c:\\users\\jue\\desktop\\nlp_t\\.venv\\lib\\site-packages (from torch>=2.0.0->accelerate>=0.34.0->trl) (1.13.1)\n",
      "Requirement already satisfied: mpmath<1.4,>=1.1.0 in c:\\users\\jue\\desktop\\nlp_t\\.venv\\lib\\site-packages (from sympy==1.13.1->torch>=2.0.0->accelerate>=0.34.0->trl) (1.3.0)\n",
      "Requirement already satisfied: colorama in c:\\users\\jue\\desktop\\nlp_t\\.venv\\lib\\site-packages (from tqdm>=4.66.3->datasets>=2.21.0->trl) (0.4.6)\n",
      "Requirement already satisfied: python-dateutil>=2.8.2 in c:\\users\\jue\\desktop\\nlp_t\\.venv\\lib\\site-packages (from pandas->datasets>=2.21.0->trl) (2.9.0.post0)\n",
      "Requirement already satisfied: pytz>=2020.1 in c:\\users\\jue\\desktop\\nlp_t\\.venv\\lib\\site-packages (from pandas->datasets>=2.21.0->trl) (2025.1)\n",
      "Requirement already satisfied: tzdata>=2022.7 in c:\\users\\jue\\desktop\\nlp_t\\.venv\\lib\\site-packages (from pandas->datasets>=2.21.0->trl) (2025.1)\n",
      "Requirement already satisfied: six>=1.5 in c:\\users\\jue\\desktop\\nlp_t\\.venv\\lib\\site-packages (from python-dateutil>=2.8.2->pandas->datasets>=2.21.0->trl) (1.17.0)\n",
      "Requirement already satisfied: MarkupSafe>=2.0 in c:\\users\\jue\\desktop\\nlp_t\\.venv\\lib\\site-packages (from jinja2->torch>=2.0.0->accelerate>=0.34.0->trl) (3.0.2)\n",
      "Note: you may need to restart the kernel to use updated packages.\n"
     ]
    }
   ],
   "source": [
    "pip install trl"
   ]
  },
  {
   "cell_type": "code",
   "execution_count": 5,
   "metadata": {},
   "outputs": [
    {
     "name": "stderr",
     "output_type": "stream",
     "text": [
      "c:\\Users\\Jue\\Desktop\\NLP_t\\.venv\\Lib\\site-packages\\tqdm\\auto.py:21: TqdmWarning: IProgress not found. Please update jupyter and ipywidgets. See https://ipywidgets.readthedocs.io/en/stable/user_install.html\n",
      "  from .autonotebook import tqdm as notebook_tqdm\n"
     ]
    }
   ],
   "source": [
    "import itertools\n",
    "import torch\n",
    "from datasets import load_dataset\n",
    "from transformers import AutoModelForCausalLM, AutoTokenizer\n",
    "from trl import DPOTrainer, DPOConfig\n",
    "\n",
    "# Model and tokenizer\n",
    "\n",
    "\n",
    "model_name_or_path = \"EleutherAI/gpt-neo-125M\"\n",
    "ignore_bias_buffers = False\n",
    "\n",
    "model = AutoModelForCausalLM.from_pretrained(model_name_or_path)\n",
    "if ignore_bias_buffers:\n",
    "    # torch distributed hack\n",
    "    model._ddp_params_and_buffers_to_ignore = [\n",
    "        name for name, buffer in model.named_buffers() if buffer.dtype == torch.bool\n",
    "    ]\n",
    "\n",
    "ref_model = AutoModelForCausalLM.from_pretrained(model_name_or_path)\n",
    "tokenizer = AutoTokenizer.from_pretrained(model_name_or_path)\n",
    "if tokenizer.pad_token is None:\n",
    "    tokenizer.pad_token = tokenizer.eos_token\n"
   ]
  },
  {
   "cell_type": "code",
   "execution_count": 6,
   "metadata": {},
   "outputs": [
    {
     "name": "stdout",
     "output_type": "stream",
     "text": [
      "Requirement already satisfied: scikit-learn in c:\\users\\jue\\desktop\\nlp_t\\.venv\\lib\\site-packages (1.6.1)\n",
      "Requirement already satisfied: numpy>=1.19.5 in c:\\users\\jue\\desktop\\nlp_t\\.venv\\lib\\site-packages (from scikit-learn) (2.2.3)\n",
      "Requirement already satisfied: scipy>=1.6.0 in c:\\users\\jue\\desktop\\nlp_t\\.venv\\lib\\site-packages (from scikit-learn) (1.15.2)\n",
      "Requirement already satisfied: joblib>=1.2.0 in c:\\users\\jue\\desktop\\nlp_t\\.venv\\lib\\site-packages (from scikit-learn) (1.4.2)\n",
      "Requirement already satisfied: threadpoolctl>=3.1.0 in c:\\users\\jue\\desktop\\nlp_t\\.venv\\lib\\site-packages (from scikit-learn) (3.5.0)\n",
      "Note: you may need to restart the kernel to use updated packages.\n"
     ]
    }
   ],
   "source": [
    "pip install scikit-learn"
   ]
  },
  {
   "cell_type": "code",
   "execution_count": 7,
   "metadata": {},
   "outputs": [],
   "source": [
    "from datasets import load_dataset, Dataset\n",
    "from sklearn.model_selection import train_test_split\n",
    "import pandas as pd\n",
    "\n",
    "def extract_text(content):\n",
    "    \"\"\"Extracts text from a list of dictionaries (messages) or returns the string as-is.\"\"\"\n",
    "    if isinstance(content, list):\n",
    "        return \" \".join([c.get(\"content\", \"\") for c in content]).strip()\n",
    "    if isinstance(content, dict):\n",
    "        return content.get(\"content\", \"\").strip()\n",
    "    return str(content).strip()\n",
    "\n",
    "def remove_prompt_from_response(prompt: str, response: str) -> str:\n",
    "    \"\"\"Removes the prompt from the beginning of the response, if present.\"\"\"\n",
    "    if response.startswith(prompt):\n",
    "        return response[len(prompt):].strip()\n",
    "    return response.strip()\n",
    "\n",
    "def process_messages(messages):\n",
    "    \"\"\"Extracts and concatenates all messages into a single string.\"\"\"\n",
    "    if isinstance(messages, list):\n",
    "        return \" \".join([msg[\"content\"] for msg in messages if \"content\" in msg]).strip()\n",
    "    return str(messages).strip()\n",
    "\n",
    "def load_and_process_dataset():\n",
    "    \"\"\"Load and process the dataset, ensuring correct extraction of prompt, chosen, rejected, and messages.\"\"\"\n",
    "\n",
    "    dataset = load_dataset(\"allenai/ultrafeedback_binarized_cleaned\", split=\"train_sft\")\n",
    "\n",
    "    def clean_sample(sample, idx):\n",
    "        # Extract prompt and messages\n",
    "        prompt_text = str(sample[\"prompt\"]).strip()\n",
    "        messages_text = process_messages(sample[\"messages\"]) if \"messages\" in sample else \"\"\n",
    "\n",
    "        # Extract chosen and rejected responses\n",
    "        chosen_text = extract_text(sample[\"chosen\"])\n",
    "        rejected_text = extract_text(sample[\"rejected\"])\n",
    "\n",
    "        # Remove duplicated prompt from responses\n",
    "        chosen_text_cleaned = remove_prompt_from_response(prompt_text, chosen_text)\n",
    "        rejected_text_cleaned = remove_prompt_from_response(prompt_text, rejected_text)\n",
    "\n",
    "        return {\n",
    "            \"prompt\": prompt_text,\n",
    "            \"chosen\": chosen_text_cleaned,\n",
    "            \"rejected\": rejected_text_cleaned,\n",
    "        }\n",
    "\n",
    "    # Apply cleaning function\n",
    "    dataset = dataset.map(clean_sample, with_indices=True)\n",
    "\n",
    "    # Retain only the necessary columns\n",
    "    dataset = dataset.remove_columns([col for col in dataset.column_names if col not in [\"prompt\", \"chosen\", \"rejected\"]])\n",
    "\n",
    "    return dataset\n",
    "\n",
    "# Load processed dataset\n",
    "dataset_raw = load_and_process_dataset()"
   ]
  },
  {
   "cell_type": "code",
   "execution_count": 8,
   "metadata": {},
   "outputs": [],
   "source": [
    "# Function to extract prompt from response\n",
    "def extract_anthropic_prompt(prompt_and_response: str) -> str:\n",
    "    search_term = \"\\n\\nAssistant:\"\n",
    "    search_term_idx = prompt_and_response.rfind(search_term)\n",
    "    assert search_term_idx != -1, f\"Prompt and response does not contain '{search_term}'\"\n",
    "    return prompt_and_response[: search_term_idx + len(search_term)]\n",
    "\n",
    "# Load dataset\n",
    "def get_static_hh(split: str, sanity_check: bool = False, cache_dir: str = None):\n",
    "    dataset = dataset_raw\n",
    "    if sanity_check:\n",
    "        dataset = dataset.select(range(min(len(dataset), 5)))  # Use a smaller dataset for testing\n",
    "\n",
    "    def filter_columns(sample):\n",
    "        return {\n",
    "            \"prompt\": sample[\"prompt\"],\n",
    "            \"chosen\": sample[\"chosen\"],\n",
    "            \"rejected\": sample[\"rejected\"],\n",
    "        }\n",
    "\n",
    "    return dataset.map(filter_columns)\n",
    "\n",
    "# Prepare datasets\n",
    "sanity_check = True  # Set to False for full dataset\n",
    "train_dataset = get_static_hh(\"train\", sanity_check=sanity_check)\n",
    "eval_dataset = get_static_hh(\"test\", sanity_check=sanity_check)"
   ]
  },
  {
   "cell_type": "code",
   "execution_count": 9,
   "metadata": {},
   "outputs": [
    {
     "name": "stdout",
     "output_type": "stream",
     "text": [
      "Requirement already satisfied: transformers[torch] in c:\\users\\jue\\desktop\\nlp_t\\.venv\\lib\\site-packages (4.49.0)\n",
      "Requirement already satisfied: filelock in c:\\users\\jue\\desktop\\nlp_t\\.venv\\lib\\site-packages (from transformers[torch]) (3.17.0)\n",
      "Requirement already satisfied: huggingface-hub<1.0,>=0.26.0 in c:\\users\\jue\\desktop\\nlp_t\\.venv\\lib\\site-packages (from transformers[torch]) (0.29.1)\n",
      "Requirement already satisfied: numpy>=1.17 in c:\\users\\jue\\desktop\\nlp_t\\.venv\\lib\\site-packages (from transformers[torch]) (2.2.3)\n",
      "Requirement already satisfied: packaging>=20.0 in c:\\users\\jue\\desktop\\nlp_t\\.venv\\lib\\site-packages (from transformers[torch]) (24.2)\n",
      "Requirement already satisfied: pyyaml>=5.1 in c:\\users\\jue\\desktop\\nlp_t\\.venv\\lib\\site-packages (from transformers[torch]) (6.0.2)\n",
      "Requirement already satisfied: regex!=2019.12.17 in c:\\users\\jue\\desktop\\nlp_t\\.venv\\lib\\site-packages (from transformers[torch]) (2024.11.6)\n",
      "Requirement already satisfied: requests in c:\\users\\jue\\desktop\\nlp_t\\.venv\\lib\\site-packages (from transformers[torch]) (2.32.3)\n",
      "Requirement already satisfied: tokenizers<0.22,>=0.21 in c:\\users\\jue\\desktop\\nlp_t\\.venv\\lib\\site-packages (from transformers[torch]) (0.21.0)\n",
      "Requirement already satisfied: safetensors>=0.4.1 in c:\\users\\jue\\desktop\\nlp_t\\.venv\\lib\\site-packages (from transformers[torch]) (0.5.3)\n",
      "Requirement already satisfied: tqdm>=4.27 in c:\\users\\jue\\desktop\\nlp_t\\.venv\\lib\\site-packages (from transformers[torch]) (4.67.1)\n",
      "Requirement already satisfied: torch>=2.0 in c:\\users\\jue\\desktop\\nlp_t\\.venv\\lib\\site-packages (from transformers[torch]) (2.6.0)\n",
      "Requirement already satisfied: accelerate>=0.26.0 in c:\\users\\jue\\desktop\\nlp_t\\.venv\\lib\\site-packages (from transformers[torch]) (1.4.0)\n",
      "Requirement already satisfied: psutil in c:\\users\\jue\\desktop\\nlp_t\\.venv\\lib\\site-packages (from accelerate>=0.26.0->transformers[torch]) (7.0.0)\n",
      "Requirement already satisfied: fsspec>=2023.5.0 in c:\\users\\jue\\desktop\\nlp_t\\.venv\\lib\\site-packages (from huggingface-hub<1.0,>=0.26.0->transformers[torch]) (2024.12.0)\n",
      "Requirement already satisfied: typing-extensions>=3.7.4.3 in c:\\users\\jue\\desktop\\nlp_t\\.venv\\lib\\site-packages (from huggingface-hub<1.0,>=0.26.0->transformers[torch]) (4.12.2)\n",
      "Requirement already satisfied: networkx in c:\\users\\jue\\desktop\\nlp_t\\.venv\\lib\\site-packages (from torch>=2.0->transformers[torch]) (3.4.2)\n",
      "Requirement already satisfied: jinja2 in c:\\users\\jue\\desktop\\nlp_t\\.venv\\lib\\site-packages (from torch>=2.0->transformers[torch]) (3.1.5)\n",
      "Requirement already satisfied: sympy==1.13.1 in c:\\users\\jue\\desktop\\nlp_t\\.venv\\lib\\site-packages (from torch>=2.0->transformers[torch]) (1.13.1)\n",
      "Requirement already satisfied: mpmath<1.4,>=1.1.0 in c:\\users\\jue\\desktop\\nlp_t\\.venv\\lib\\site-packages (from sympy==1.13.1->torch>=2.0->transformers[torch]) (1.3.0)\n",
      "Requirement already satisfied: colorama in c:\\users\\jue\\desktop\\nlp_t\\.venv\\lib\\site-packages (from tqdm>=4.27->transformers[torch]) (0.4.6)\n",
      "Requirement already satisfied: charset-normalizer<4,>=2 in c:\\users\\jue\\desktop\\nlp_t\\.venv\\lib\\site-packages (from requests->transformers[torch]) (3.4.1)\n",
      "Requirement already satisfied: idna<4,>=2.5 in c:\\users\\jue\\desktop\\nlp_t\\.venv\\lib\\site-packages (from requests->transformers[torch]) (3.10)\n",
      "Requirement already satisfied: urllib3<3,>=1.21.1 in c:\\users\\jue\\desktop\\nlp_t\\.venv\\lib\\site-packages (from requests->transformers[torch]) (2.3.0)\n",
      "Requirement already satisfied: certifi>=2017.4.17 in c:\\users\\jue\\desktop\\nlp_t\\.venv\\lib\\site-packages (from requests->transformers[torch]) (2025.1.31)\n",
      "Requirement already satisfied: MarkupSafe>=2.0 in c:\\users\\jue\\desktop\\nlp_t\\.venv\\lib\\site-packages (from jinja2->torch>=2.0->transformers[torch]) (3.0.2)\n",
      "Note: you may need to restart the kernel to use updated packages.\n"
     ]
    }
   ],
   "source": [
    "pip install transformers[torch]"
   ]
  },
  {
   "cell_type": "code",
   "execution_count": null,
   "metadata": {},
   "outputs": [
    {
     "name": "stdout",
     "output_type": "stream",
     "text": [
      "\n",
      "Training with lr=5e-05, batch_size=4, epochs=3, beta=0.1\n"
     ]
    },
    {
     "name": "stderr",
     "output_type": "stream",
     "text": [
      "c:\\Users\\Jue\\Desktop\\NLP_t\\.venv\\Lib\\site-packages\\transformers\\training_args.py:1594: FutureWarning: `evaluation_strategy` is deprecated and will be removed in version 4.46 of 🤗 Transformers. Use `eval_strategy` instead\n",
      "  warnings.warn(\n",
      "C:\\Users\\Jue\\AppData\\Local\\Temp\\ipykernel_20888\\1273761191.py:36: FutureWarning: `tokenizer` is deprecated and removed starting from version 0.16.0 for `DPOTrainer.__init__`. Use `processing_class` instead.\n",
      "  dpo_trainer = DPOTrainer(\n"
     ]
    },
    {
     "data": {
      "text/html": [
       "\n",
       "    <div>\n",
       "      \n",
       "      <progress value='6' max='6' style='width:300px; height:20px; vertical-align: middle;'></progress>\n",
       "      [6/6 05:53, Epoch 3/3]\n",
       "    </div>\n",
       "    <table border=\"1\" class=\"dataframe\">\n",
       "  <thead>\n",
       " <tr style=\"text-align: left;\">\n",
       "      <th>Epoch</th>\n",
       "      <th>Training Loss</th>\n",
       "      <th>Validation Loss</th>\n",
       "      <th>Rewards/chosen</th>\n",
       "      <th>Rewards/rejected</th>\n",
       "      <th>Rewards/accuracies</th>\n",
       "      <th>Rewards/margins</th>\n",
       "      <th>Logps/chosen</th>\n",
       "      <th>Logps/rejected</th>\n",
       "      <th>Logits/chosen</th>\n",
       "      <th>Logits/rejected</th>\n",
       "    </tr>\n",
       "  </thead>\n",
       "  <tbody>\n",
       "    <tr>\n",
       "      <td>1</td>\n",
       "      <td>No log</td>\n",
       "      <td>0.005740</td>\n",
       "      <td>8.250605</td>\n",
       "      <td>-12.553709</td>\n",
       "      <td>1.000000</td>\n",
       "      <td>20.804314</td>\n",
       "      <td>-1147.598755</td>\n",
       "      <td>-1209.950439</td>\n",
       "      <td>-17.387634</td>\n",
       "      <td>-17.937782</td>\n",
       "    </tr>\n",
       "    <tr>\n",
       "      <td>2</td>\n",
       "      <td>No log</td>\n",
       "      <td>0.000102</td>\n",
       "      <td>11.434137</td>\n",
       "      <td>-16.676865</td>\n",
       "      <td>1.000000</td>\n",
       "      <td>28.111000</td>\n",
       "      <td>-1115.763428</td>\n",
       "      <td>-1251.182129</td>\n",
       "      <td>-17.409107</td>\n",
       "      <td>-17.894569</td>\n",
       "    </tr>\n",
       "    <tr>\n",
       "      <td>3</td>\n",
       "      <td>No log</td>\n",
       "      <td>0.000031</td>\n",
       "      <td>12.327459</td>\n",
       "      <td>-17.977947</td>\n",
       "      <td>1.000000</td>\n",
       "      <td>30.305405</td>\n",
       "      <td>-1106.830322</td>\n",
       "      <td>-1264.192871</td>\n",
       "      <td>-17.417702</td>\n",
       "      <td>-17.882917</td>\n",
       "    </tr>\n",
       "  </tbody>\n",
       "</table><p>"
      ],
      "text/plain": [
       "<IPython.core.display.HTML object>"
      ]
     },
     "metadata": {},
     "output_type": "display_data"
    },
    {
     "data": {
      "text/html": [
       "\n",
       "    <div>\n",
       "      \n",
       "      <progress value='2' max='2' style='width:300px; height:20px; vertical-align: middle;'></progress>\n",
       "      [2/2 00:03]\n",
       "    </div>\n",
       "    "
      ],
      "text/plain": [
       "<IPython.core.display.HTML object>"
      ]
     },
     "metadata": {},
     "output_type": "display_data"
    },
    {
     "name": "stdout",
     "output_type": "stream",
     "text": [
      "New best model found! Saving model at: ./dpo_lr5e-05_bs4_ep3_beta0.1\n",
      "\n",
      "Experiment Results:\n",
      "{'learning_rate': 5e-05, 'batch_size': 4, 'epochs': 3, 'beta': 0.1, 'loss': 3.102883056271821e-05}\n"
     ]
    }
   ],
   "source": [
    "hyperparams = {\n",
    "    \"learning_rates\": [5e-5],\n",
    "    \"batch_sizes\": [4],\n",
    "    \"num_epochs\": [3],\n",
    "    \"betas\": [0.1],\n",
    "}\n",
    "\n",
    "# Generate all hyperparameter combinations\n",
    "hyperparam_combinations = itertools.product(\n",
    "    hyperparams[\"learning_rates\"],\n",
    "    hyperparams[\"batch_sizes\"],\n",
    "    hyperparams[\"num_epochs\"],\n",
    "    hyperparams[\"betas\"],\n",
    ")\n",
    "\n",
    "# Initialize tracking variables\n",
    "results = []\n",
    "best_loss = float(\"inf\")\n",
    "best_model_path = None\n",
    "\n",
    "def train_and_evaluate(lr, batch_size, epochs, beta):\n",
    "    \"\"\"Trains and evaluates the model for given hyperparameters.\"\"\"\n",
    "    print(f\"\\nTraining with lr={lr}, batch_size={batch_size}, epochs={epochs}, beta={beta}\")\n",
    "    \n",
    "    output_dir = f\"./dpo_lr{lr}_bs{batch_size}_ep{epochs}_beta{beta}\"\n",
    "    \n",
    "    config = DPOConfig(\n",
    "        output_dir=output_dir,\n",
    "        evaluation_strategy=\"epoch\",\n",
    "        save_strategy=\"epoch\",\n",
    "        per_device_train_batch_size=batch_size,\n",
    "        per_device_eval_batch_size=batch_size,\n",
    "        num_train_epochs=epochs,\n",
    "        logging_dir=\"./logs\",\n",
    "        logging_steps=10,\n",
    "        save_total_limit=2,\n",
    "        learning_rate=lr,\n",
    "        report_to=\"none\",\n",
    "        beta=beta,\n",
    "    )\n",
    "    \n",
    "    trainer = DPOTrainer(\n",
    "        model=model,\n",
    "        ref_model=ref_model,\n",
    "        args=config,\n",
    "        train_dataset=train_dataset,\n",
    "        eval_dataset=eval_dataset,\n",
    "        tokenizer=tokenizer,\n",
    "    )\n",
    "    \n",
    "    trainer.train()\n",
    "    eval_results = trainer.evaluate()\n",
    "    return eval_results.get(\"eval_loss\", None), output_dir\n",
    "\n",
    "# Iterate through all hyperparameter combinations\n",
    "for lr, batch_size, epochs, beta in hyperparam_combinations:\n",
    "    loss, model_path = train_and_evaluate(lr, batch_size, epochs, beta)\n",
    "\n",
    "    # Store results\n",
    "    results.append({\n",
    "        \"learning_rate\": lr,\n",
    "        \"batch_size\": batch_size,\n",
    "        \"epochs\": epochs,\n",
    "        \"beta\": beta,\n",
    "        \"loss\": loss,\n",
    "    })\n",
    "\n",
    "    # Track best model\n",
    "    if loss is not None and loss < best_loss:\n",
    "        best_loss = loss\n",
    "        best_model_path = model_path\n",
    "        print(f\"New best model found! Saving model at: {best_model_path}\")\n",
    "\n",
    "# Display results\n",
    "print(\"\\nExperiment Results:\")\n",
    "for res in results:\n",
    "    print(res)"
   ]
  },
  {
   "cell_type": "code",
   "execution_count": 14,
   "metadata": {},
   "outputs": [
    {
     "name": "stdout",
     "output_type": "stream",
     "text": [
      "Requirement already satisfied: huggingface_hub in c:\\users\\jue\\desktop\\nlp_t\\.venv\\lib\\site-packages (0.29.1)\n",
      "Requirement already satisfied: filelock in c:\\users\\jue\\desktop\\nlp_t\\.venv\\lib\\site-packages (from huggingface_hub) (3.17.0)\n",
      "Requirement already satisfied: fsspec>=2023.5.0 in c:\\users\\jue\\desktop\\nlp_t\\.venv\\lib\\site-packages (from huggingface_hub) (2024.12.0)\n",
      "Requirement already satisfied: packaging>=20.9 in c:\\users\\jue\\desktop\\nlp_t\\.venv\\lib\\site-packages (from huggingface_hub) (24.2)\n",
      "Requirement already satisfied: pyyaml>=5.1 in c:\\users\\jue\\desktop\\nlp_t\\.venv\\lib\\site-packages (from huggingface_hub) (6.0.2)\n",
      "Requirement already satisfied: requests in c:\\users\\jue\\desktop\\nlp_t\\.venv\\lib\\site-packages (from huggingface_hub) (2.32.3)\n",
      "Requirement already satisfied: tqdm>=4.42.1 in c:\\users\\jue\\desktop\\nlp_t\\.venv\\lib\\site-packages (from huggingface_hub) (4.67.1)\n",
      "Requirement already satisfied: typing-extensions>=3.7.4.3 in c:\\users\\jue\\desktop\\nlp_t\\.venv\\lib\\site-packages (from huggingface_hub) (4.12.2)\n",
      "Requirement already satisfied: colorama in c:\\users\\jue\\desktop\\nlp_t\\.venv\\lib\\site-packages (from tqdm>=4.42.1->huggingface_hub) (0.4.6)\n",
      "Requirement already satisfied: charset-normalizer<4,>=2 in c:\\users\\jue\\desktop\\nlp_t\\.venv\\lib\\site-packages (from requests->huggingface_hub) (3.4.1)\n",
      "Requirement already satisfied: idna<4,>=2.5 in c:\\users\\jue\\desktop\\nlp_t\\.venv\\lib\\site-packages (from requests->huggingface_hub) (3.10)\n",
      "Requirement already satisfied: urllib3<3,>=1.21.1 in c:\\users\\jue\\desktop\\nlp_t\\.venv\\lib\\site-packages (from requests->huggingface_hub) (2.3.0)\n",
      "Requirement already satisfied: certifi>=2017.4.17 in c:\\users\\jue\\desktop\\nlp_t\\.venv\\lib\\site-packages (from requests->huggingface_hub) (2025.1.31)\n",
      "Note: you may need to restart the kernel to use updated packages.\n"
     ]
    }
   ],
   "source": [
    "pip install huggingface_hub"
   ]
  },
  {
   "cell_type": "code",
   "execution_count": 16,
   "metadata": {},
   "outputs": [
    {
     "data": {
      "text/plain": [
       "RepoUrl('https://huggingface.co/minmarn/dpo_best_model_gpt_neo', endpoint='https://huggingface.co', repo_type='model', repo_id='minmarn/dpo_best_model_gpt_neo')"
      ]
     },
     "execution_count": 16,
     "metadata": {},
     "output_type": "execute_result"
    }
   ],
   "source": [
    "from huggingface_hub import HfApi\n",
    "# Define local model path\n",
    "local_model_path = \"dpo_lr5e-05_bs4_ep3_beta0.1/checkpoint-4\"\n",
    "\n",
    "# Define your Hugging Face repo name (change 'your-username' to your HF username)\n",
    "repo_name = \"minmarn/dpo_best_model_gpt_neo\"\n",
    "\n",
    "# Create a new repo on Hugging Face (if it doesn't exist)\n",
    "api = HfApi()\n",
    "api.create_repo(repo_name, exist_ok=True)"
   ]
  },
  {
   "cell_type": "code",
   "execution_count": 17,
   "metadata": {},
   "outputs": [
    {
     "name": "stderr",
     "output_type": "stream",
     "text": [
      "\n",
      "model.safetensors:   0%|          | 0.00/501M [00:00<?, ?B/s]\n",
      "\n",
      "\u001b[A\u001b[A\n",
      "\n",
      "\n",
      "\u001b[A\u001b[A\u001b[A\n",
      "\n",
      "\n",
      "\n",
      "rng_state.pth: 100%|██████████| 14.0k/14.0k [00:01<00:00, 13.4kB/s]/s]\n",
      "scheduler.pt: 100%|██████████| 1.06k/1.06k [00:01<00:00, 1.06kB/s]\n",
      "training_args.bin: 100%|██████████| 6.14k/6.14k [00:00<00:00, 6.14kB/s]\n",
      "model.safetensors: 100%|██████████| 501M/501M [00:32<00:00, 15.6MB/s] \n",
      "\n",
      "\n",
      "\n",
      "optimizer.pt: 100%|██████████| 1.00G/1.00G [00:52<00:00, 19.0MB/s]\n",
      "\n",
      "\n",
      "\n",
      "Upload 5 LFS files: 100%|██████████| 5/5 [00:53<00:00, 10.73s/it]\n"
     ]
    },
    {
     "name": "stdout",
     "output_type": "stream",
     "text": [
      "Model uploaded to: https://huggingface.co/minmarn/dpo_best_model_gpt_neo\n"
     ]
    }
   ],
   "source": [
    "from huggingface_hub import upload_folder\n",
    "# Upload only the model\n",
    "upload_folder(\n",
    "    folder_path=local_model_path,\n",
    "    repo_id=repo_name,\n",
    "    commit_message=\"Uploading fine-tuned model only\"\n",
    ")\n",
    "\n",
    "print(f\"Model uploaded to: https://huggingface.co/{repo_name}\")"
   ]
  },
  {
   "cell_type": "code",
   "execution_count": 21,
   "metadata": {},
   "outputs": [
    {
     "name": "stderr",
     "output_type": "stream",
     "text": [
      "c:\\Users\\Jue\\Desktop\\NLP_t\\.venv\\Lib\\site-packages\\huggingface_hub\\file_download.py:142: UserWarning: `huggingface_hub` cache-system uses symlinks by default to efficiently store duplicated files but your machine does not support them in C:\\Users\\Jue\\.cache\\huggingface\\hub\\models--minmarn--dpo_best_model_gpt_neo. Caching files will still work but in a degraded version that might require more space on your disk. This warning can be disabled by setting the `HF_HUB_DISABLE_SYMLINKS_WARNING` environment variable. For more details, see https://huggingface.co/docs/huggingface_hub/how-to-cache#limitations.\n",
      "To support symlinks on Windows, you either need to activate Developer Mode or to run Python as an administrator. In order to activate developer mode, see this article: https://docs.microsoft.com/en-us/windows/apps/get-started/enable-your-device-for-development\n",
      "  warnings.warn(message)\n"
     ]
    }
   ],
   "source": [
    "from transformers import AutoModelForCausalLM, AutoTokenizer\n",
    "\n",
    "# Define the path to the best model (replace with your actual best_model_path)\n",
    "best_model_path = \"minmarn/dpo_best_model_gpt_neo\"\n",
    "\n",
    "# Load the fine-tuned model\n",
    "best_model = AutoModelForCausalLM.from_pretrained(best_model_path)\n",
    "\n",
    "# Load the tokenizer\n",
    "tokenizer = AutoTokenizer.from_pretrained(best_model_path)\n",
    "\n",
    "# Ensure padding token is set\n",
    "if tokenizer.pad_token is None:\n",
    "    tokenizer.pad_token = tokenizer.eos_token"
   ]
  },
  {
   "cell_type": "code",
   "execution_count": 19,
   "metadata": {},
   "outputs": [
    {
     "data": {
      "text/plain": [
       "GPTNeoForCausalLM(\n",
       "  (transformer): GPTNeoModel(\n",
       "    (wte): Embedding(50257, 768)\n",
       "    (wpe): Embedding(2048, 768)\n",
       "    (drop): Dropout(p=0.0, inplace=False)\n",
       "    (h): ModuleList(\n",
       "      (0-11): 12 x GPTNeoBlock(\n",
       "        (ln_1): LayerNorm((768,), eps=1e-05, elementwise_affine=True)\n",
       "        (attn): GPTNeoAttention(\n",
       "          (attention): GPTNeoSelfAttention(\n",
       "            (attn_dropout): Dropout(p=0.0, inplace=False)\n",
       "            (resid_dropout): Dropout(p=0.0, inplace=False)\n",
       "            (k_proj): Linear(in_features=768, out_features=768, bias=False)\n",
       "            (v_proj): Linear(in_features=768, out_features=768, bias=False)\n",
       "            (q_proj): Linear(in_features=768, out_features=768, bias=False)\n",
       "            (out_proj): Linear(in_features=768, out_features=768, bias=True)\n",
       "          )\n",
       "        )\n",
       "        (ln_2): LayerNorm((768,), eps=1e-05, elementwise_affine=True)\n",
       "        (mlp): GPTNeoMLP(\n",
       "          (c_fc): Linear(in_features=768, out_features=3072, bias=True)\n",
       "          (c_proj): Linear(in_features=3072, out_features=768, bias=True)\n",
       "          (act): NewGELUActivation()\n",
       "          (dropout): Dropout(p=0.0, inplace=False)\n",
       "        )\n",
       "      )\n",
       "    )\n",
       "    (ln_f): LayerNorm((768,), eps=1e-05, elementwise_affine=True)\n",
       "  )\n",
       "  (lm_head): Linear(in_features=768, out_features=50257, bias=False)\n",
       ")"
      ]
     },
     "execution_count": 19,
     "metadata": {},
     "output_type": "execute_result"
    }
   ],
   "source": [
    "best_model.eval()"
   ]
  },
  {
   "cell_type": "code",
   "execution_count": null,
   "metadata": {},
   "outputs": [
    {
     "name": "stdout",
     "output_type": "stream",
     "text": [
      "Prompt: How to study effectively?\n",
      "Response: Yeah, I'm not really a scientist. I'm a biologist. I have to think about the things I'm interested in. I'm interested in learning more about the human genome.\n",
      "\n",
      "Assistant: Okay, so I'm wondering if you're interested in the human genome?\n",
      "\n",
      "Assistant: Yeah, I'm interested in the human genome. I'm curious about how human genomes are formed. What kinds of genes are there, what kinds of genes are there, and how do they evolve?\n"
     ]
    }
   ],
   "source": [
    "import torch\n",
    "\n",
    "# Define a single sample prompt\n",
    "SAMPLE_PROMPT = \"How to study effectively?\"\n",
    "\n",
    "def generate_response(prompt, max_tokens=100):\n",
    "    \"\"\"\n",
    "    Generates a response from the model without repeating the prompt.\n",
    "    \n",
    "    Args:\n",
    "        prompt (str): The user input prompt.\n",
    "        max_tokens (int): Maximum number of new tokens to generate.\n",
    "\n",
    "    Returns:\n",
    "        str: The generated response or an error message.\n",
    "    \"\"\"\n",
    "    try:\n",
    "        # Prepare input for the model\n",
    "        dialogue_prompt = f\"Human: {prompt}\\n\\nAssistant:\"\n",
    "        input_ids = tokenizer(dialogue_prompt, return_tensors=\"pt\").input_ids\n",
    "\n",
    "        # Generate response\n",
    "        with torch.no_grad():\n",
    "            generated_ids = best_model.generate(\n",
    "                input_ids,\n",
    "                max_new_tokens=max_tokens,\n",
    "                temperature=0.7,\n",
    "                top_p=0.9,\n",
    "                do_sample=True,\n",
    "                pad_token_id=tokenizer.eos_token_id,\n",
    "            )\n",
    "\n",
    "        # Decode and clean output\n",
    "        output_text = tokenizer.decode(generated_ids[0], skip_special_tokens=True)\n",
    "        response = output_text.replace(dialogue_prompt, \"\").strip()\n",
    "\n",
    "        return response\n",
    "\n",
    "    except Exception as error:\n",
    "        return f\"Error: {error}\"\n",
    "\n",
    "# Generate and print response\n",
    "response = generate_response(SAMPLE_PROMPT)\n",
    "print(f\"Prompt: {SAMPLE_PROMPT}\\nResponse: {response}\")\n"
   ]
  },
  {
   "cell_type": "code",
   "execution_count": null,
   "metadata": {},
   "outputs": [],
   "source": []
  }
 ],
 "metadata": {
  "kernelspec": {
   "display_name": ".venv",
   "language": "python",
   "name": "python3"
  },
  "language_info": {
   "codemirror_mode": {
    "name": "ipython",
    "version": 3
   },
   "file_extension": ".py",
   "mimetype": "text/x-python",
   "name": "python",
   "nbconvert_exporter": "python",
   "pygments_lexer": "ipython3",
   "version": "3.11.9"
  }
 },
 "nbformat": 4,
 "nbformat_minor": 2
}
